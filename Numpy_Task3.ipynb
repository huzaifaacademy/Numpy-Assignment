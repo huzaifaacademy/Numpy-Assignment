{
 "cells": [
  {
   "cell_type": "markdown",
   "metadata": {},
   "source": [
    "# Election Results\n",
    "\n",
    "You’re part of an impartial research group that conducts phone surveys prior to local elections. During this election season, the group conducted a survey to determine how many people would vote for I_Khan vs. S_Sharif in the presidential election.\n",
    "\n",
    "Now that the election has occurred, your group wants to compare the survey responses to the actual results.\n",
    "\n",
    "Was your survey a good indicator? Let’s find out!"
   ]
  },
  {
   "cell_type": "markdown",
   "metadata": {},
   "source": [
    "# PROJECT STEPS"
   ]
  },
  {
   "cell_type": "markdown",
   "metadata": {},
   "source": [
    "1.First, import numpy and matplotlib."
   ]
  },
  {
   "cell_type": "code",
   "execution_count": 2,
   "metadata": {},
   "outputs": [],
   "source": [
    "import numpy as np\n",
    "import matplotlib.pyplot as pl"
   ]
  },
  {
   "cell_type": "markdown",
   "metadata": {},
   "source": [
    "2.There is a list given of the different survey responses.\n",
    "\n",
    "Calculate the number of people who answered ‘I_Khan’ and save the answer to the variable total_Khan.\n",
    "\n",
    "Print the variable to the terminal to see its value."
   ]
  },
  {
   "cell_type": "code",
   "execution_count": 3,
   "metadata": {},
   "outputs": [
    {
     "name": "stdout",
     "output_type": "stream",
     "text": [
      "33\n"
     ]
    }
   ],
   "source": [
    "survey_responses = ['I_Khan', 'S_Sharif', 'I_Khan', 'I_Khan', 'I_Khan','S_Sharif',\n",
    "                    'S_Sharif', 'I_Khan', 'I_Khan', 'I_Khan', 'S_Sharif', 'S_Sharif',\n",
    "                    'I_Khan', 'I_Khan', 'S_Sharif', 'S_Sharif','I_Khan', 'I_Khan', \n",
    "                    'S_Sharif', 'S_Sharif', 'S_Sharif', 'S_Sharif', 'S_Sharif', 'S_Sharif', \n",
    "                    'I_Khan', 'I_Khan', 'I_Khan', 'I_Khan', 'I_Khan', 'I_Khan',\n",
    "                    'S_Sharif', 'S_Sharif', 'I_Khan', 'I_Khan', 'I_Khan', 'S_Sharif',\n",
    "                    'S_Sharif', 'I_Khan', 'I_Khan', 'S_Sharif', 'S_Sharif', 'I_Khan', \n",
    "                    'I_Khan', 'S_Sharif', 'S_Sharif', 'S_Sharif', 'S_Sharif', 'S_Sharif',\n",
    "                    'S_Sharif', 'I_Khan','S_Sharif', 'S_Sharif', 'I_Khan', 'I_Khan', \n",
    "                    'I_Khan', 'S_Sharif', 'S_Sharif', 'I_Khan', 'I_Khan', 'S_Sharif', \n",
    "                    'S_Sharif', 'I_Khan', 'I_Khan', 'S_Sharif', 'S_Sharif', 'S_Sharif', \n",
    "                    'S_Sharif', 'S_Sharif', 'S_Sharif', 'I_Khan']\n",
    "\n",
    "total_Khan = np.sum(np.in1d(survey_responses,\"I_Khan\"))\n",
    "print(total_Khan)"
   ]
  },
  {
   "cell_type": "markdown",
   "metadata": {},
   "source": [
    "3.Calculate the percentage of people in the survey who voted for I_Khan and save it to the variable percentage_I_Khan.\n",
    "\n",
    "Print the variable to the terminal to see its value."
   ]
  },
  {
   "cell_type": "code",
   "execution_count": 6,
   "metadata": {},
   "outputs": [
    {
     "name": "stdout",
     "output_type": "stream",
     "text": [
      "47.14285714285714\n"
     ]
    }
   ],
   "source": [
    "percentage_I_Khan = (total_Khan/len(survey_responses))*100\n",
    "print(percentage_I_Khan)"
   ]
  },
  {
   "cell_type": "markdown",
   "metadata": {},
   "source": [
    "4.In the real election, 54% of the 10,000 town population voted for I_Khan. Your supervisors are concerned because this is a very different outcome than what the poll predicted. They want you to determine if there is something wrong with the poll or if given the sample size, it was an entirely reasonable result.\n",
    "\n",
    "Generate a binomial distribution that takes the number of total survey responses, the actual success rate, and the size of the town’s population as its parameters. Then divide the distribution by the number of survey responses. Save your calculation to the variable possible_surveys.\n",
    "\n",
    "######### hint###########\n",
    "possible_surveys = \n",
    "np.random.binomial(total of survey responses, the actual success rate,and the size of the town’s population ) "
   ]
  },
  {
   "cell_type": "code",
   "execution_count": 7,
   "metadata": {},
   "outputs": [
    {
     "name": "stdout",
     "output_type": "stream",
     "text": [
      "[0.52857143 0.6        0.55714286 0.62857143 0.47142857 0.5\n",
      " 0.52857143 0.41428571 0.54285714 0.52857143 0.51428571 0.58571429\n",
      " 0.54285714 0.42857143 0.61428571 0.61428571 0.47142857 0.48571429\n",
      " 0.54285714 0.55714286 0.62857143 0.48571429 0.62857143 0.52857143\n",
      " 0.45714286 0.54285714 0.44285714 0.52857143 0.5        0.51428571\n",
      " 0.52857143 0.44285714 0.6        0.52857143 0.58571429 0.54285714\n",
      " 0.61428571 0.5        0.52857143 0.55714286 0.61428571 0.65714286\n",
      " 0.58571429 0.52857143 0.5        0.5        0.58571429 0.61428571\n",
      " 0.6        0.57142857 0.55714286 0.52857143 0.48571429 0.51428571\n",
      " 0.52857143 0.65714286 0.51428571 0.58571429 0.58571429 0.5\n",
      " 0.51428571 0.51428571 0.52857143 0.5        0.55714286 0.5\n",
      " 0.6        0.51428571 0.58571429 0.37142857 0.44285714 0.47142857\n",
      " 0.48571429 0.55714286 0.44285714 0.54285714 0.61428571 0.44285714\n",
      " 0.6        0.41428571 0.52857143 0.6        0.48571429 0.6\n",
      " 0.51428571 0.57142857 0.52857143 0.52857143 0.54285714 0.55714286\n",
      " 0.51428571 0.52857143 0.6        0.7        0.52857143 0.55714286\n",
      " 0.51428571 0.38571429 0.57142857 0.47142857 0.47142857 0.58571429\n",
      " 0.55714286 0.5        0.52857143 0.52857143 0.48571429 0.58571429\n",
      " 0.5        0.51428571 0.54285714 0.55714286 0.54285714 0.55714286\n",
      " 0.37142857 0.52857143 0.57142857 0.51428571 0.45714286 0.57142857\n",
      " 0.58571429 0.64285714 0.54285714 0.58571429 0.48571429 0.44285714\n",
      " 0.55714286 0.44285714 0.55714286 0.51428571 0.62857143 0.48571429\n",
      " 0.55714286 0.54285714 0.48571429 0.5        0.54285714 0.47142857\n",
      " 0.5        0.35714286 0.37142857 0.57142857 0.54285714 0.5\n",
      " 0.54285714 0.45714286 0.61428571 0.55714286 0.45714286 0.52857143\n",
      " 0.54285714 0.65714286 0.64285714 0.57142857 0.6        0.55714286\n",
      " 0.55714286 0.55714286 0.58571429 0.52857143 0.61428571 0.54285714\n",
      " 0.5        0.5        0.58571429 0.44285714 0.62857143 0.48571429\n",
      " 0.61428571 0.37142857 0.55714286 0.48571429 0.54285714 0.55714286\n",
      " 0.55714286 0.47142857 0.55714286 0.62857143 0.5        0.5\n",
      " 0.44285714 0.41428571 0.55714286 0.54285714 0.52857143 0.51428571\n",
      " 0.57142857 0.47142857 0.58571429 0.42857143 0.54285714 0.64285714\n",
      " 0.58571429 0.47142857 0.55714286 0.55714286 0.45714286 0.54285714\n",
      " 0.44285714 0.52857143 0.51428571 0.55714286 0.51428571 0.47142857\n",
      " 0.52857143 0.54285714 0.47142857 0.57142857 0.55714286 0.55714286\n",
      " 0.62857143 0.58571429 0.45714286 0.54285714 0.5        0.52857143\n",
      " 0.5        0.62857143 0.62857143 0.58571429 0.4        0.6\n",
      " 0.54285714 0.48571429 0.48571429 0.61428571 0.55714286 0.47142857\n",
      " 0.57142857 0.61428571 0.58571429 0.65714286 0.47142857 0.51428571\n",
      " 0.55714286 0.54285714 0.58571429 0.51428571 0.54285714 0.48571429\n",
      " 0.54285714 0.44285714 0.6        0.38571429 0.55714286 0.55714286\n",
      " 0.47142857 0.5        0.48571429 0.51428571 0.5        0.64285714\n",
      " 0.51428571 0.51428571 0.45714286 0.64285714 0.5        0.57142857\n",
      " 0.54285714 0.51428571 0.62857143 0.47142857 0.47142857 0.45714286\n",
      " 0.54285714 0.52857143 0.71428571 0.51428571 0.51428571 0.58571429\n",
      " 0.44285714 0.57142857 0.6        0.55714286 0.48571429 0.5\n",
      " 0.54285714 0.55714286 0.61428571 0.55714286 0.52857143 0.52857143\n",
      " 0.57142857 0.6        0.52857143 0.58571429 0.5        0.45714286\n",
      " 0.42857143 0.5        0.58571429 0.55714286 0.62857143 0.54285714\n",
      " 0.44285714 0.65714286 0.52857143 0.62857143 0.51428571 0.57142857\n",
      " 0.57142857 0.62857143 0.67142857 0.5        0.62857143 0.44285714\n",
      " 0.51428571 0.54285714 0.52857143 0.42857143 0.52857143 0.57142857\n",
      " 0.5        0.38571429 0.62857143 0.54285714 0.5        0.51428571\n",
      " 0.62857143 0.5        0.52857143 0.51428571 0.65714286 0.54285714\n",
      " 0.57142857 0.47142857 0.6        0.5        0.44285714 0.51428571\n",
      " 0.42857143 0.54285714 0.6        0.62857143 0.62857143 0.62857143\n",
      " 0.48571429 0.6        0.48571429 0.55714286 0.42857143 0.52857143\n",
      " 0.54285714 0.57142857 0.55714286 0.57142857 0.55714286 0.57142857\n",
      " 0.51428571 0.57142857 0.55714286 0.58571429 0.57142857 0.51428571\n",
      " 0.5        0.61428571 0.44285714 0.51428571 0.57142857 0.57142857\n",
      " 0.55714286 0.52857143 0.67142857 0.6        0.55714286 0.6\n",
      " 0.5        0.54285714 0.5        0.52857143 0.55714286 0.58571429\n",
      " 0.51428571 0.48571429 0.45714286 0.61428571 0.52857143 0.6\n",
      " 0.52857143 0.58571429 0.52857143 0.57142857 0.57142857 0.48571429\n",
      " 0.51428571 0.38571429 0.55714286 0.54285714 0.48571429 0.5\n",
      " 0.58571429 0.45714286 0.54285714 0.62857143 0.4        0.48571429\n",
      " 0.47142857 0.55714286 0.55714286 0.55714286 0.54285714 0.55714286\n",
      " 0.54285714 0.57142857 0.57142857 0.6        0.55714286 0.55714286\n",
      " 0.58571429 0.58571429 0.45714286 0.54285714 0.38571429 0.48571429\n",
      " 0.52857143 0.57142857 0.57142857 0.5        0.45714286 0.51428571\n",
      " 0.48571429 0.48571429 0.45714286 0.44285714 0.44285714 0.48571429\n",
      " 0.54285714 0.51428571 0.51428571 0.52857143 0.51428571 0.6\n",
      " 0.6        0.57142857 0.48571429 0.5        0.51428571 0.48571429\n",
      " 0.57142857 0.48571429 0.5        0.5        0.52857143 0.54285714\n",
      " 0.52857143 0.52857143 0.58571429 0.52857143 0.47142857 0.57142857\n",
      " 0.47142857 0.57142857 0.47142857 0.6        0.6        0.58571429\n",
      " 0.52857143 0.62857143 0.55714286 0.48571429 0.51428571 0.51428571\n",
      " 0.52857143 0.51428571 0.65714286 0.5        0.48571429 0.67142857\n",
      " 0.45714286 0.62857143 0.45714286 0.51428571 0.58571429 0.51428571\n",
      " 0.62857143 0.47142857 0.54285714 0.48571429 0.55714286 0.5\n",
      " 0.61428571 0.52857143 0.5        0.41428571 0.62857143 0.54285714\n",
      " 0.62857143 0.5        0.55714286 0.45714286 0.47142857 0.64285714\n",
      " 0.51428571 0.58571429 0.52857143 0.58571429 0.57142857 0.64285714\n",
      " 0.51428571 0.51428571 0.51428571 0.57142857 0.55714286 0.5\n",
      " 0.6        0.55714286 0.55714286 0.52857143 0.54285714 0.48571429\n",
      " 0.47142857 0.51428571 0.58571429 0.55714286 0.65714286 0.57142857\n",
      " 0.54285714 0.58571429 0.51428571 0.48571429 0.5        0.57142857\n",
      " 0.51428571 0.55714286 0.44285714 0.54285714 0.5        0.4\n",
      " 0.64285714 0.58571429 0.6        0.55714286 0.55714286 0.5\n",
      " 0.54285714 0.44285714 0.55714286 0.41428571 0.64285714 0.48571429\n",
      " 0.51428571 0.58571429 0.57142857 0.54285714 0.55714286 0.5\n",
      " 0.52857143 0.5        0.47142857 0.58571429 0.57142857 0.48571429\n",
      " 0.54285714 0.55714286 0.45714286 0.48571429 0.6        0.47142857\n",
      " 0.47142857 0.51428571 0.55714286 0.5        0.58571429 0.5\n",
      " 0.47142857 0.51428571 0.52857143 0.51428571 0.47142857 0.51428571\n",
      " 0.47142857 0.47142857 0.45714286 0.55714286 0.55714286 0.47142857\n",
      " 0.44285714 0.55714286 0.57142857 0.54285714 0.6        0.65714286\n",
      " 0.5        0.45714286 0.57142857 0.57142857 0.51428571 0.51428571\n",
      " 0.55714286 0.58571429 0.51428571 0.42857143 0.55714286 0.54285714\n",
      " 0.5        0.52857143 0.52857143 0.57142857 0.52857143 0.5\n",
      " 0.54285714 0.58571429 0.51428571 0.64285714 0.54285714 0.67142857\n",
      " 0.5        0.57142857 0.52857143 0.58571429 0.54285714 0.55714286\n",
      " 0.52857143 0.67142857 0.6        0.6        0.58571429 0.54285714\n",
      " 0.48571429 0.42857143 0.58571429 0.5        0.52857143 0.58571429\n",
      " 0.44285714 0.54285714 0.52857143 0.45714286 0.5        0.51428571\n",
      " 0.51428571 0.57142857 0.5        0.52857143 0.51428571 0.54285714\n",
      " 0.61428571 0.57142857 0.51428571 0.54285714 0.51428571 0.55714286\n",
      " 0.51428571 0.51428571 0.55714286 0.5        0.55714286 0.5\n",
      " 0.48571429 0.5        0.61428571 0.48571429 0.51428571 0.62857143\n",
      " 0.58571429 0.55714286 0.51428571 0.54285714 0.57142857 0.51428571\n",
      " 0.61428571 0.51428571 0.52857143 0.42857143 0.35714286 0.6\n",
      " 0.52857143 0.6        0.55714286 0.5        0.6        0.57142857\n",
      " 0.62857143 0.52857143 0.64285714 0.51428571 0.64285714 0.45714286\n",
      " 0.55714286 0.6        0.52857143 0.51428571 0.6        0.47142857\n",
      " 0.54285714 0.52857143 0.45714286 0.52857143 0.47142857 0.42857143\n",
      " 0.47142857 0.55714286 0.65714286 0.62857143 0.47142857 0.64285714\n",
      " 0.58571429 0.48571429 0.64285714 0.52857143 0.55714286 0.62857143\n",
      " 0.58571429 0.51428571 0.54285714 0.6        0.65714286 0.55714286\n",
      " 0.64285714 0.52857143 0.57142857 0.5        0.54285714 0.62857143\n",
      " 0.58571429 0.6        0.45714286 0.55714286 0.54285714 0.62857143\n",
      " 0.48571429 0.48571429 0.52857143 0.52857143 0.47142857 0.52857143\n",
      " 0.54285714 0.55714286 0.54285714 0.52857143 0.58571429 0.52857143\n",
      " 0.58571429 0.5        0.47142857 0.47142857 0.61428571 0.58571429\n",
      " 0.54285714 0.48571429 0.54285714 0.64285714 0.51428571 0.47142857\n",
      " 0.48571429 0.48571429 0.57142857 0.65714286 0.52857143 0.42857143\n",
      " 0.41428571 0.48571429 0.58571429 0.57142857 0.54285714 0.62857143\n",
      " 0.54285714 0.52857143 0.51428571 0.54285714 0.62857143 0.5\n",
      " 0.58571429 0.5        0.52857143 0.48571429 0.55714286 0.41428571\n",
      " 0.51428571 0.52857143 0.48571429 0.55714286 0.57142857 0.54285714\n",
      " 0.64285714 0.57142857 0.61428571 0.55714286 0.55714286 0.58571429\n",
      " 0.51428571 0.41428571 0.5        0.55714286 0.55714286 0.58571429\n",
      " 0.6        0.45714286 0.6        0.47142857 0.6        0.6\n",
      " 0.47142857 0.5        0.45714286 0.58571429 0.52857143 0.5\n",
      " 0.47142857 0.61428571 0.51428571 0.58571429 0.51428571 0.5\n",
      " 0.57142857 0.54285714 0.5        0.54285714 0.55714286 0.67142857\n",
      " 0.62857143 0.45714286 0.47142857 0.55714286 0.57142857 0.45714286\n",
      " 0.6        0.52857143 0.6        0.48571429 0.58571429 0.57142857\n",
      " 0.48571429 0.48571429 0.42857143 0.5        0.45714286 0.42857143\n",
      " 0.6        0.5        0.54285714 0.58571429 0.6        0.48571429\n",
      " 0.51428571 0.48571429 0.58571429 0.52857143 0.6        0.48571429\n",
      " 0.44285714 0.67142857 0.48571429 0.48571429 0.51428571 0.54285714\n",
      " 0.52857143 0.57142857 0.58571429 0.51428571 0.47142857 0.51428571\n",
      " 0.55714286 0.57142857 0.52857143 0.48571429 0.6        0.4\n",
      " 0.45714286 0.51428571 0.42857143 0.62857143 0.57142857 0.57142857\n",
      " 0.57142857 0.61428571 0.47142857 0.47142857 0.55714286 0.42857143\n",
      " 0.57142857 0.5        0.51428571 0.48571429 0.47142857 0.57142857\n",
      " 0.51428571 0.55714286 0.5        0.5        0.52857143 0.45714286\n",
      " 0.42857143 0.57142857 0.42857143 0.52857143 0.67142857 0.64285714\n",
      " 0.58571429 0.5        0.61428571 0.54285714 0.47142857 0.58571429\n",
      " 0.51428571 0.57142857 0.52857143 0.45714286 0.5        0.58571429\n",
      " 0.6        0.51428571 0.55714286 0.58571429 0.5        0.5\n",
      " 0.65714286 0.5        0.52857143 0.58571429 0.6        0.61428571\n",
      " 0.54285714 0.55714286 0.58571429 0.57142857 0.58571429 0.6\n",
      " 0.57142857 0.55714286 0.47142857 0.51428571 0.5        0.61428571\n",
      " 0.52857143 0.62857143 0.58571429 0.55714286 0.48571429 0.54285714\n",
      " 0.5        0.58571429 0.62857143 0.57142857 0.57142857 0.5\n",
      " 0.57142857 0.57142857 0.57142857 0.54285714 0.52857143 0.6\n",
      " 0.55714286 0.54285714 0.58571429 0.64285714 0.55714286 0.54285714\n",
      " 0.5        0.6        0.54285714 0.45714286 0.52857143 0.51428571\n",
      " 0.58571429 0.55714286 0.51428571 0.55714286 0.51428571 0.61428571\n",
      " 0.57142857 0.57142857 0.5        0.6        0.64285714 0.5\n",
      " 0.52857143 0.57142857 0.57142857 0.5        0.48571429 0.45714286\n",
      " 0.61428571 0.48571429 0.41428571 0.54285714 0.57142857 0.48571429\n",
      " 0.44285714 0.57142857 0.45714286 0.5        0.42857143 0.57142857\n",
      " 0.55714286 0.52857143 0.58571429 0.62857143 0.41428571 0.44285714\n",
      " 0.61428571 0.58571429 0.47142857 0.52857143 0.5        0.55714286\n",
      " 0.52857143 0.6        0.54285714 0.6       ]\n"
     ]
    }
   ],
   "source": [
    "possible_surveys = np.random.binomial(len(survey_responses),0.54,size=1000)/len(survey_responses)\n",
    "print(possible_surveys)"
   ]
  },
  {
   "cell_type": "markdown",
   "metadata": {},
   "source": [
    "\n",
    "      #######Optional########\n",
    "5.By using matplotlib Plot a histogram of possible_surveys with a range of 0-1 and 20 bins.\n"
   ]
  },
  {
   "cell_type": "code",
   "execution_count": 9,
   "metadata": {},
   "outputs": [
    {
     "data": {
      "image/png": "[encoded data removed]",
      "text/plain": [
       "<Figure size 432x288 with 1 Axes>"
      ]
     },
     "metadata": {
      "needs_background": "light"
     },
     "output_type": "display_data"
    }
   ],
   "source": [
    "pl.hist(possible_surveys,range=(0,1),bins=20)\n",
    "pl.show()"
   ]
  },
  {
   "cell_type": "markdown",
   "metadata": {},
   "source": [
    "6.As we saw, 47% of people we surveyed said they would vote for I_Khan, but 54% of people voted for I_Khan in the actual election.\n",
    "\n",
    "Calculate the percentage of surveys that could have an outcome of I_Khan receiving less than 50% of the vote and save it to the variable I_Khan_loss_surveys.\n",
    "\n",
    "Print the variable to the terminal."
   ]
  },
  {
   "cell_type": "code",
   "execution_count": 10,
   "metadata": {},
   "outputs": [
    {
     "name": "stdout",
     "output_type": "stream",
     "text": [
      "0.217\n"
     ]
    }
   ],
   "source": [
    "I_Khan_loss_surveys = np.mean(possible_surveys<0.5)\n",
    "print(I_Khan_loss_surveys)"
   ]
  },
  {
   "cell_type": "markdown",
   "metadata": {},
   "source": [
    "7.With this current poll, about 20% of the time a survey output would predict S_Sharif winning, even if I_Khan won the actual election.\n",
    "\n",
    "Your co-worker points out that your poll would be more accurate if it had more responders.\n",
    "\n",
    "Generate another binomial distribution, but this time, see what would happen if you had instead surveyed 7,000 people. Divide the distribution by the size of the survey and save your findings to large_survey.\n"
   ]
  },
  {
   "cell_type": "code",
   "execution_count": 12,
   "metadata": {},
   "outputs": [
    {
     "name": "stdout",
     "output_type": "stream",
     "text": [
      "[3844 3802 3770 ... 3867 3788 3676]\n"
     ]
    }
   ],
   "source": [
    "large_survey = np.random.binomial(7000,0.54,size=10000)\n",
    "print(large_survey)"
   ]
  },
  {
   "cell_type": "markdown",
   "metadata": {},
   "source": [
    "8.Now, recalculate the percentage of surveys that would have an outcome of I_Khan losing and save it to the variable I_Khan_loss_new, and print the value to the terminal.\n",
    "\n",
    "What do we notice about this new value?\n",
    "\n",
    "What advice would you give to your supervisors about predicting results from surveys?\n"
   ]
  },
  {
   "cell_type": "code",
   "execution_count": 13,
   "metadata": {},
   "outputs": [
    {
     "name": "stdout",
     "output_type": "stream",
     "text": [
      "0.0\n"
     ]
    }
   ],
   "source": [
    "I_Khan_loss_new = np.mean(large_survey<0.5)\n",
    "print(I_Khan_loss_new)"
   ]
  },
  {
   "cell_type": "markdown",
   "metadata": {},
   "source": [
    "The 70 sampled survey responses for ongoing presidency elections, indicate 47.14% chances of I_Khan winning the current elections. The given sample shows I_Khan has around 20% chances of losing the election. To get better view of elections, sampling size is increased signficantly to 7000 out of total population of 10000, that leaves I_khan chances of losing the election to 0.0%. So, having the sampling size larger, equip us with more accurate results."
   ]
  }
 ],
 "metadata": {
  "kernelspec": {
   "display_name": "Python 3",
   "language": "python",
   "name": "python3"
  },
  "language_info": {
   "codemirror_mode": {
    "name": "ipython",
    "version": 3
   },
   "file_extension": ".py",
   "mimetype": "text/x-python",
   "name": "python",
   "nbconvert_exporter": "python",
   "pygments_lexer": "ipython3",
   "version": "3.8.5"
  }
 },
 "nbformat": 4,
 "nbformat_minor": 2
}
